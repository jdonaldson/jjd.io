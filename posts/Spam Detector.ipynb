{
 "cells": [
  {
   "cell_type": "markdown",
   "id": "ec779b55-4681-4442-884a-5e31ec7c0ff9",
   "metadata": {
    "tags": []
   },
   "source": [
    "---\n",
    "title: \"Spam Detection Example\"\n",
    "format:\n",
    "  html:\n",
    "    toc: true\n",
    "    toc-depth: 3  # Optional: Set depth of TOC\n",
    "    toc-title: \"Spam Detection Example\"  \n",
    "    toc-location: right  \n",
    "---\n"
   ]
  },
  {
   "cell_type": "markdown",
   "id": "ac44d24a-8ab1-4387-a9ba-2249e78a52c9",
   "metadata": {
    "toc-hr-collapsed": true
   },
   "source": [
    "TODO: Write intro"
   ]
  },
  {
   "cell_type": "markdown",
   "id": "8f6c935b-4d7e-40b2-9824-d284ffddfbf7",
   "metadata": {
    "tags": []
   },
   "source": [
    "![Warning!  AI Generated Content Ahead!](../posts/images/omgjjd_star_wars._robot_teaching_children._purple_details._norm_4dbf6075-53b0-47ef-90bc-ab2cc8cb7a86.png)"
   ]
  },
  {
   "cell_type": "markdown",
   "id": "3d1833bc-cd7e-4acf-a9b8-8fffbb2e1823",
   "metadata": {
    "tags": []
   },
   "source": [
    "## Download some Libraries"
   ]
  },
  {
   "cell_type": "code",
   "execution_count": 1,
   "id": "6a444142-95f5-4749-ada6-35c29a0b32bd",
   "metadata": {
    "tags": []
   },
   "outputs": [],
   "source": [
    "## uncomment this and execute to download libraries for this notebook\n",
    "# !pip install polars floret gdown sentence-transformers tqdm pyarrow altair ipywidgets pandas matplotlib"
   ]
  },
  {
   "cell_type": "markdown",
   "id": "e463a95a-f47a-4072-8baa-3409e4b79f80",
   "metadata": {
    "tags": []
   },
   "source": [
    "## Download Some Free Spam"
   ]
  },
  {
   "cell_type": "code",
   "execution_count": 2,
   "id": "0e78262a-0521-4de9-8fb7-c7ad3a5df48f",
   "metadata": {
    "tags": []
   },
   "outputs": [
    {
     "data": {
      "text/html": [
       "<div><style>\n",
       ".dataframe > thead > tr,\n",
       ".dataframe > tbody > tr {\n",
       "  text-align: right;\n",
       "  white-space: pre-wrap;\n",
       "}\n",
       "</style>\n",
       "<small>shape: (5, 2)</small><table border=\"1\" class=\"dataframe\"><thead><tr><th>Type</th><th>Message</th></tr><tr><td>str</td><td>str</td></tr></thead><tbody><tr><td>&quot;ham&quot;</td><td>&quot;Go until jurong point, crazy..…</td></tr><tr><td>&quot;ham&quot;</td><td>&quot;Ok lar... Joking wif u oni...&quot;</td></tr><tr><td>&quot;spam&quot;</td><td>&quot;Free entry in 2 a wkly comp to…</td></tr><tr><td>&quot;ham&quot;</td><td>&quot;U dun say so early hor... U c …</td></tr><tr><td>&quot;ham&quot;</td><td>&quot;Nah I don&#x27;t think he goes to u…</td></tr></tbody></table></div>"
      ],
      "text/plain": [
       "shape: (5, 2)\n",
       "┌──────┬─────────────────────────────────┐\n",
       "│ Type ┆ Message                         │\n",
       "│ ---  ┆ ---                             │\n",
       "│ str  ┆ str                             │\n",
       "╞══════╪═════════════════════════════════╡\n",
       "│ ham  ┆ Go until jurong point, crazy..… │\n",
       "│ ham  ┆ Ok lar... Joking wif u oni...   │\n",
       "│ spam ┆ Free entry in 2 a wkly comp to… │\n",
       "│ ham  ┆ U dun say so early hor... U c … │\n",
       "│ ham  ┆ Nah I don't think he goes to u… │\n",
       "└──────┴─────────────────────────────────┘"
      ]
     },
     "execution_count": 2,
     "metadata": {},
     "output_type": "execute_result"
    }
   ],
   "source": [
    "import polars as pl\n",
    "dat = pl.read_csv(\"https://raw.githubusercontent.com/bigmlcom/python/refs/heads/master/data/spam.csv\", separator = \"\\t\")\n",
    "dat.head()"
   ]
  },
  {
   "cell_type": "markdown",
   "id": "83ad8c88-cd38-40f9-8f3a-edc0dd9b2b74",
   "metadata": {},
   "source": [
    "# Create Message Embeddings"
   ]
  },
  {
   "cell_type": "code",
   "execution_count": 3,
   "id": "7334c99b-d9bf-49a9-b9f6-8a0094e826a5",
   "metadata": {
    "tags": []
   },
   "outputs": [],
   "source": [
    "from sentence_transformers import SentenceTransformer\n",
    "model = SentenceTransformer(\"all-MiniLM-L6-v2\")\n"
   ]
  },
  {
   "cell_type": "code",
   "execution_count": 4,
   "id": "dfc10a78-1856-4924-808c-08222a37062c",
   "metadata": {
    "tags": []
   },
   "outputs": [
    {
     "data": {
      "text/html": [
       "<div><style>\n",
       ".dataframe > thead > tr,\n",
       ".dataframe > tbody > tr {\n",
       "  text-align: right;\n",
       "  white-space: pre-wrap;\n",
       "}\n",
       "</style>\n",
       "<small>shape: (1, 3)</small><table border=\"1\" class=\"dataframe\"><thead><tr><th>Type</th><th>Message</th><th>Message_embeddings</th></tr><tr><td>str</td><td>str</td><td>object</td></tr></thead><tbody><tr><td>&quot;ham&quot;</td><td>&quot;Go until jurong point, crazy..…</td><td>[-1.69181824e-02 -3.81679200e-02&nbsp;&nbsp;7.14857653e-02 -5.73437065e-02\n",
       " -8.66633356e-02&nbsp;&nbsp;4.65233661e-02&nbsp;&nbsp;6.01777025e-02 -2.38348581e-02\n",
       "&nbsp;&nbsp;6.06626458e-02 -7.05441236e-02&nbsp;&nbsp;5.93964718e-02 -7.71391839e-02\n",
       " -4.15645130e-02 -3.41324471e-02&nbsp;&nbsp;8.53624567e-02 -7.76045993e-02\n",
       "&nbsp;&nbsp;1.13105521e-01 -3.69878896e-02&nbsp;&nbsp;1.39168883e-02 -4.90012504e-02\n",
       "&nbsp;&nbsp;1.83193274e-02 -4.10681814e-02 -1.09108746e-01&nbsp;&nbsp;4.61956151e-02\n",
       " -1.21960320e-01 -4.33768295e-02 -1.78877972e-02&nbsp;&nbsp;1.99523382e-03\n",
       "&nbsp;&nbsp;3.06233601e-03 -7.96412118e-03 -1.33218328e-02&nbsp;&nbsp;1.67141780e-01\n",
       " -7.55039454e-02 -1.78407524e-02&nbsp;&nbsp;1.32588185e-02 -3.15061733e-02\n",
       " -9.53863785e-02 -8.83596465e-02&nbsp;&nbsp;7.96378553e-02&nbsp;&nbsp;6.11798614e-02\n",
       " -3.47491424e-03&nbsp;&nbsp;7.61992484e-02 -3.70001234e-02 -2.13697832e-02\n",
       "&nbsp;&nbsp;1.12011898e-02 -1.18908651e-01&nbsp;&nbsp;2.00325884e-02&nbsp;&nbsp;5.57313748e-02\n",
       "&nbsp;&nbsp;9.57565531e-02 -2.27366723e-02 -5.79422303e-02&nbsp;&nbsp;4.35438938e-02\n",
       "&nbsp;&nbsp;2.38019638e-02&nbsp;&nbsp;5.64076426e-03 -3.35444361e-02 -8.53418722e-04\n",
       "&nbsp;&nbsp;8.05954728e-03 -3.84804234e-02&nbsp;&nbsp;3.83039899e-02&nbsp;&nbsp;4.17757519e-02\n",
       "&nbsp;&nbsp;4.58615273e-03&nbsp;&nbsp;3.06468420e-02&nbsp;&nbsp;5.60260145e-03 -8.75349063e-03\n",
       " -2.39509307e-02&nbsp;&nbsp;1.25138625e-03 -4.45523672e-02&nbsp;&nbsp;6.51425496e-02\n",
       "&nbsp;&nbsp;1.13622770e-02&nbsp;&nbsp;1.23233702e-02&nbsp;&nbsp;4.87583410e-03 -1.38713280e-02\n",
       " -8.03859252e-03&nbsp;&nbsp;1.26386555e-02&nbsp;&nbsp;7.52020627e-02&nbsp;&nbsp;3.70769165e-02\n",
       " -5.59643880e-02 -8.63211080e-02 -6.10754788e-02&nbsp;&nbsp;3.70548405e-02\n",
       " -4.91377525e-02 -3.20833735e-02&nbsp;&nbsp;1.90563817e-02 -3.72626409e-02\n",
       "&nbsp;&nbsp;1.72842620e-03 -1.64863726e-04&nbsp;&nbsp;1.60731317e-03&nbsp;&nbsp;1.12929739e-01\n",
       "&nbsp;&nbsp;6.42531589e-02 -2.71103233e-02&nbsp;&nbsp;4.35887836e-02&nbsp;&nbsp;1.85125731e-02\n",
       " -1.32856295e-01&nbsp;&nbsp;1.19323749e-02&nbsp;&nbsp;4.25306447e-02 -3.10521144e-02\n",
       " -2.45824866e-02&nbsp;&nbsp;4.72321436e-02 -6.77127242e-02&nbsp;&nbsp;4.09979597e-02\n",
       "&nbsp;&nbsp;4.67088893e-02&nbsp;&nbsp;9.03373137e-02&nbsp;&nbsp;4.29132208e-02&nbsp;&nbsp;6.37918562e-02\n",
       " -1.86576694e-02&nbsp;&nbsp;1.70605835e-02&nbsp;&nbsp;7.74438903e-02&nbsp;&nbsp;5.55131994e-02\n",
       "&nbsp;&nbsp;5.83152138e-02 -7.39113986e-02 -7.65196234e-02&nbsp;&nbsp;2.44083293e-02\n",
       "&nbsp;&nbsp;6.38015196e-02 -1.20272905e-01 -2.81793270e-02 -1.37958815e-02\n",
       "&nbsp;&nbsp;2.02865135e-02 -1.56714451e-02&nbsp;&nbsp;5.54748774e-02 -9.40069370e-03\n",
       "&nbsp;&nbsp;1.18104391e-01&nbsp;&nbsp;1.41699789e-02 -2.63116732e-02&nbsp;&nbsp;4.67997789e-02\n",
       " -1.04309969e-01 -3.17853987e-02 -1.02161113e-02 -1.32458551e-33\n",
       " -1.99304000e-02 -1.26173627e-03&nbsp;&nbsp;8.28732848e-02&nbsp;&nbsp;1.75689452e-03\n",
       "&nbsp;&nbsp;6.08917512e-02 -4.11049376e-04 -9.47755873e-02 -5.35774678e-02\n",
       " -4.20552231e-02 -5.85285909e-02 -2.15330888e-02 -1.25193462e-01\n",
       " -2.87181288e-02 -2.14101449e-02&nbsp;&nbsp;3.05047128e-02&nbsp;&nbsp;2.54149064e-02\n",
       "&nbsp;&nbsp;1.24499738e-01 -6.86813220e-02&nbsp;&nbsp;1.34712756e-02 -7.46099502e-02\n",
       "&nbsp;&nbsp;3.00230719e-02 -1.12213850e-01 -6.02861419e-02 -4.42803279e-02\n",
       " -3.26453298e-02&nbsp;&nbsp;7.86900148e-02&nbsp;&nbsp;9.16252658e-03&nbsp;&nbsp;1.77258067e-02\n",
       "&nbsp;&nbsp;5.64120896e-02&nbsp;&nbsp;3.82041037e-02 -4.73747551e-02&nbsp;&nbsp;1.42837996e-02\n",
       "&nbsp;&nbsp;3.25910258e-03 -4.89112968e-03 -2.64929198e-02&nbsp;&nbsp;1.90504678e-02\n",
       " -7.25003704e-02 -1.86688025e-02&nbsp;&nbsp;4.56063263e-03 -3.65367979e-02\n",
       "&nbsp;&nbsp;5.22860326e-02&nbsp;&nbsp;1.19018525e-01 -4.44218554e-02&nbsp;&nbsp;5.88492639e-02\n",
       " -2.44770143e-02&nbsp;&nbsp;9.23932269e-02&nbsp;&nbsp;1.11726988e-02&nbsp;&nbsp;3.72147970e-02\n",
       "&nbsp;&nbsp;1.18185461e-01 -3.04004606e-02 -6.19890504e-02 -2.62813084e-02\n",
       " -9.48503315e-02 -2.85046343e-02 -2.49951351e-02&nbsp;&nbsp;3.44672315e-02\n",
       " -2.21120268e-02 -6.38141949e-03 -7.25123100e-03 -7.64134061e-03\n",
       "&nbsp;&nbsp;1.10825926e-01 -2.99052522e-02&nbsp;&nbsp;3.89806926e-02 -4.21310030e-02\n",
       "&nbsp;&nbsp;6.89505832e-03&nbsp;&nbsp;3.36252451e-02 -2.92518288e-02 -3.65735777e-02\n",
       "&nbsp;&nbsp;5.29934876e-02&nbsp;&nbsp;3.28635215e-03&nbsp;&nbsp;3.69590260e-02&nbsp;&nbsp;2.61338404e-03\n",
       "&nbsp;&nbsp;8.76879618e-02&nbsp;&nbsp;4.68911864e-02&nbsp;&nbsp;6.13586307e-02 -6.01785397e-03\n",
       "&nbsp;&nbsp;1.88666750e-02 -2.91370470e-02&nbsp;&nbsp;3.46963890e-02 -2.07888172e-03\n",
       "&nbsp;&nbsp;6.27531623e-03 -1.33823538e-02 -3.74364331e-02&nbsp;&nbsp;3.24327461e-02\n",
       "&nbsp;&nbsp;3.75855044e-02 -2.19553672e-02&nbsp;&nbsp;5.73135093e-02 -6.04293793e-02\n",
       "&nbsp;&nbsp;8.59184712e-02 -4.22911206e-03 -6.22577071e-02&nbsp;&nbsp;2.70021465e-02\n",
       "&nbsp;&nbsp;4.54709008e-02 -4.48018610e-02 -5.65327071e-02&nbsp;&nbsp;5.57557312e-34\n",
       "&nbsp;&nbsp;4.14824523e-02 -3.16414237e-02&nbsp;&nbsp;8.82135797e-03&nbsp;&nbsp;2.14761775e-02\n",
       "&nbsp;&nbsp;3.89992073e-02&nbsp;&nbsp;2.41183788e-02 -5.67613952e-02&nbsp;&nbsp;4.12703156e-02\n",
       "&nbsp;&nbsp;4.11817692e-02&nbsp;&nbsp;5.81647307e-02 -9.73564982e-02 -3.09904013e-02\n",
       "&nbsp;&nbsp;9.69219580e-02 -5.61235212e-02&nbsp;&nbsp;3.41982618e-02&nbsp;&nbsp;1.07519306e-01\n",
       "&nbsp;&nbsp;9.06308144e-02 -4.00391631e-02&nbsp;&nbsp;1.25106135e-02&nbsp;&nbsp;1.24085620e-01\n",
       " -6.26365375e-03 -3.65534425e-02&nbsp;&nbsp;2.52256170e-02&nbsp;&nbsp;1.07734790e-02\n",
       " -4.92042229e-02&nbsp;&nbsp;1.75992511e-02&nbsp;&nbsp;3.69748212e-02&nbsp;&nbsp;8.42630640e-02\n",
       " -6.63305894e-02 -1.66913122e-02 -6.10412173e-02 -3.11728548e-02\n",
       " -7.21557289e-02 -1.66528746e-02 -1.02617703e-02&nbsp;&nbsp;1.62422378e-02\n",
       " -2.06661932e-02&nbsp;&nbsp;3.92794749e-03 -6.43087970e-03&nbsp;&nbsp;6.30945563e-02\n",
       " -5.36041819e-02 -4.91470620e-02&nbsp;&nbsp;4.55063302e-03&nbsp;&nbsp;4.88804914e-02\n",
       "&nbsp;&nbsp;6.50152490e-02&nbsp;&nbsp;2.36753002e-02&nbsp;&nbsp;7.23623559e-02&nbsp;&nbsp;1.58664735e-03\n",
       " -2.46164910e-02 -7.03328522e-03&nbsp;&nbsp;6.42405599e-02&nbsp;&nbsp;3.70860472e-02\n",
       " -9.38719884e-02&nbsp;&nbsp;2.34099831e-02&nbsp;&nbsp;6.17754413e-03&nbsp;&nbsp;4.73575667e-03\n",
       " -1.38120297e-02 -4.17801877e-03 -8.14963952e-02 -5.73687106e-02\n",
       " -3.31521849e-03 -1.86633866e-03 -5.81240878e-02&nbsp;&nbsp;6.45614713e-02\n",
       "&nbsp;&nbsp;5.63419983e-02 -1.48974499e-03 -1.90959163e-02&nbsp;&nbsp;8.73385891e-02\n",
       " -8.87677968e-02 -6.11231802e-03 -2.63885390e-02&nbsp;&nbsp;1.62656177e-02\n",
       " -3.67152281e-02 -3.57657336e-02 -7.20747262e-02&nbsp;&nbsp;3.37118767e-02\n",
       " -9.34335310e-03 -1.96274668e-02&nbsp;&nbsp;2.12872121e-02 -4.48771231e-02\n",
       "&nbsp;&nbsp;4.40328708e-03&nbsp;&nbsp;5.67067713e-02 -6.76035210e-02 -2.58699134e-02\n",
       "&nbsp;&nbsp;6.85539022e-02&nbsp;&nbsp;6.24181889e-02&nbsp;&nbsp;1.43683366e-02&nbsp;&nbsp;9.24333464e-03\n",
       "&nbsp;&nbsp;5.71860326e-03 -3.62973684e-03 -4.11234498e-02&nbsp;&nbsp;5.80872372e-02\n",
       " -3.05861775e-02 -4.40317430e-02 -1.17556658e-04 -2.76080296e-08\n",
       "&nbsp;&nbsp;3.06018023e-03&nbsp;&nbsp;1.22044953e-02 -1.19921025e-02&nbsp;&nbsp;2.68007000e-03\n",
       "&nbsp;&nbsp;2.42149327e-02 -8.79795104e-02 -4.37452421e-02&nbsp;&nbsp;1.05309878e-02\n",
       "&nbsp;&nbsp;6.26235753e-02&nbsp;&nbsp;1.22771144e-01 -5.61710633e-02 -2.56135575e-02\n",
       "&nbsp;&nbsp;4.92233858e-02 -4.79623722e-03 -6.59028813e-02&nbsp;&nbsp;6.13308437e-02\n",
       "&nbsp;&nbsp;5.94741516e-02 -2.99019776e-02 -1.98101420e-02&nbsp;&nbsp;1.19421957e-02\n",
       " -3.48647498e-03&nbsp;&nbsp;1.16272703e-01&nbsp;&nbsp;2.60050427e-02 -8.41647312e-02\n",
       " -3.59536707e-03&nbsp;&nbsp;1.33070266e-02&nbsp;&nbsp;3.01273614e-02 -2.32840627e-02\n",
       "&nbsp;&nbsp;6.92448113e-03 -2.48819869e-02&nbsp;&nbsp;2.56498531e-03 -2.41190381e-02\n",
       " -1.07202325e-02 -8.39264765e-02&nbsp;&nbsp;1.80417206e-02 -3.52585725e-02\n",
       " -1.23782434e-01 -1.32526588e-02 -3.55782770e-02 -5.06126229e-03\n",
       "&nbsp;&nbsp;7.70425983e-03 -1.88829061e-02&nbsp;&nbsp;2.94495281e-02 -3.18319388e-02\n",
       " -1.80741213e-02&nbsp;&nbsp;1.31877894e-02&nbsp;&nbsp;2.83850245e-02 -6.47806143e-03\n",
       " -1.25165051e-02&nbsp;&nbsp;2.86001377e-02 -6.50383383e-02 -2.05947123e-02\n",
       "&nbsp;&nbsp;6.62037684e-03 -3.18170339e-02&nbsp;&nbsp;6.85986802e-02 -3.24419402e-02\n",
       " -1.66954510e-02&nbsp;&nbsp;6.08403757e-02&nbsp;&nbsp;7.08020255e-02&nbsp;&nbsp;2.01966185e-02\n",
       "&nbsp;&nbsp;3.42436433e-02 -6.21646829e-02 -7.35691339e-02 -1.25749502e-03]</td></tr></tbody></table></div>"
      ],
      "text/plain": [
       "shape: (1, 3)\n",
       "┌──────┬─────────────────────────────────┬─────────────────────────────────┐\n",
       "│ Type ┆ Message                         ┆ Message_embeddings              │\n",
       "│ ---  ┆ ---                             ┆ ---                             │\n",
       "│ str  ┆ str                             ┆ object                          │\n",
       "╞══════╪═════════════════════════════════╪═════════════════════════════════╡\n",
       "│ ham  ┆ Go until jurong point, crazy..… ┆ [-1.69181824e-02 -3.81679200e-… │\n",
       "└──────┴─────────────────────────────────┴─────────────────────────────────┘"
      ]
     },
     "execution_count": 4,
     "metadata": {},
     "output_type": "execute_result"
    }
   ],
   "source": [
    "df = dat.with_columns(   \n",
    "    [pl.col(\"Message\").map_elements(model.encode, return_dtype=pl.Object).alias(\"Message_embeddings\")]\n",
    ")\n",
    "df.head(1)"
   ]
  },
  {
   "cell_type": "code",
   "execution_count": 5,
   "id": "bc7ed946-5c69-4f02-af24-21ace9460e2d",
   "metadata": {},
   "outputs": [
    {
     "name": "stderr",
     "output_type": "stream",
     "text": [
      "/var/folders/5j/pmm3r4y967d_s8q5f92p5ld00000gp/T/ipykernel_81205/3871731784.py:13: UserWarning: Creating a tensor from a list of numpy.ndarrays is extremely slow. Please consider converting the list to a single numpy.ndarray with numpy.array() before converting to a tensor. (Triggered internally at /Users/runner/work/pytorch/pytorch/pytorch/torch/csrc/utils/tensor_new.cpp:257.)\n",
      "  X = torch.tensor(df[\"Message_embeddings\"], dtype=torch.float32)  # Embeddings tensor\n"
     ]
    },
    {
     "data": {
      "text/html": [
       "<div>\n",
       "<style scoped>\n",
       "    .dataframe tbody tr th:only-of-type {\n",
       "        vertical-align: middle;\n",
       "    }\n",
       "\n",
       "    .dataframe tbody tr th {\n",
       "        vertical-align: top;\n",
       "    }\n",
       "\n",
       "    .dataframe thead th {\n",
       "        text-align: right;\n",
       "    }\n",
       "</style>\n",
       "<table border=\"1\" class=\"dataframe\">\n",
       "  <thead>\n",
       "    <tr style=\"text-align: right;\">\n",
       "      <th></th>\n",
       "      <th>loss</th>\n",
       "      <th>holdout_loss</th>\n",
       "      <th>holdout_accuracy</th>\n",
       "    </tr>\n",
       "    <tr>\n",
       "      <th>epoch</th>\n",
       "      <th></th>\n",
       "      <th></th>\n",
       "      <th></th>\n",
       "    </tr>\n",
       "  </thead>\n",
       "  <tbody>\n",
       "    <tr>\n",
       "      <th>0</th>\n",
       "      <td>0.684548</td>\n",
       "      <td>0.661170</td>\n",
       "      <td>0.878788</td>\n",
       "    </tr>\n",
       "    <tr>\n",
       "      <th>10</th>\n",
       "      <td>0.483083</td>\n",
       "      <td>0.479492</td>\n",
       "      <td>0.878788</td>\n",
       "    </tr>\n",
       "    <tr>\n",
       "      <th>20</th>\n",
       "      <td>0.369715</td>\n",
       "      <td>0.382444</td>\n",
       "      <td>0.878788</td>\n",
       "    </tr>\n",
       "    <tr>\n",
       "      <th>30</th>\n",
       "      <td>0.305010</td>\n",
       "      <td>0.329953</td>\n",
       "      <td>0.878788</td>\n",
       "    </tr>\n",
       "    <tr>\n",
       "      <th>40</th>\n",
       "      <td>0.261684</td>\n",
       "      <td>0.295536</td>\n",
       "      <td>0.886364</td>\n",
       "    </tr>\n",
       "  </tbody>\n",
       "</table>\n",
       "</div>"
      ],
      "text/plain": [
       "           loss  holdout_loss  holdout_accuracy\n",
       "epoch                                          \n",
       "0      0.684548      0.661170          0.878788\n",
       "10     0.483083      0.479492          0.878788\n",
       "20     0.369715      0.382444          0.878788\n",
       "30     0.305010      0.329953          0.878788\n",
       "40     0.261684      0.295536          0.886364"
      ]
     },
     "execution_count": 5,
     "metadata": {},
     "output_type": "execute_result"
    }
   ],
   "source": [
    "import polars as pl\n",
    "import pandas as pd\n",
    "import torch\n",
    "import torch.nn as nn\n",
    "import torch.optim as optim\n",
    "from sklearn.model_selection import train_test_split\n",
    "from sklearn.metrics import accuracy_score, precision_score, recall_score, f1_score\n",
    "\n",
    "# Convert labels to binary (spam = 1, ham = 0) and keep as a Polars expression\n",
    "df = df.with_columns((pl.col(\"Type\") == \"spam\").cast(pl.Int32).alias(\"Label\"))\n",
    "\n",
    "# Convert Polars columns directly to PyTorch tensors\n",
    "X = torch.tensor(df[\"Message_embeddings\"], dtype=torch.float32)  # Embeddings tensor\n",
    "y = torch.tensor(df[\"Label\"], dtype=torch.float32).unsqueeze(1)  # Labels tensor\n",
    "\n",
    "# Split into train and test sets\n",
    "X_train, X_test, y_train, y_test = train_test_split(X, y, test_size=0.2, random_state=42)\n",
    "\n",
    "# Define logistic regression model\n",
    "class LogisticRegression(nn.Module):\n",
    "    def __init__(self, input_dim):\n",
    "        super(LogisticRegression, self).__init__()\n",
    "        self.linear = nn.Linear(input_dim, 1)  # Single output node\n",
    "        self.sigmoid = nn.Sigmoid()\n",
    "\n",
    "    def forward(self, x):\n",
    "        return self.sigmoid(self.linear(x))\n",
    "\n",
    "# Initialize model\n",
    "input_dim = X.shape[1]  # Get embedding size\n",
    "model = LogisticRegression(input_dim)\n",
    "\n",
    "# Define loss and optimizer\n",
    "criterion = nn.BCELoss()  # Binary cross-entropy loss\n",
    "optimizer = optim.Adam(model.parameters(), lr=0.01)\n",
    "\n",
    "# Training loop\n",
    "num_epochs = 50\n",
    "holdout_metrics = []\n",
    "for epoch in range(num_epochs):\n",
    "    model.train()\n",
    "    optimizer.zero_grad()\n",
    "    outputs = model(X_train)\n",
    "    loss = criterion(outputs, y_train)\n",
    "    loss.backward()\n",
    "    optimizer.step()\n",
    "\n",
    "    if epoch % 10 == 0:\n",
    "        # Evaluate the model on the holdout\n",
    "        model.eval()\n",
    "        with torch.no_grad():\n",
    "            y_pred = model(X_test)\n",
    "            holdout_loss = criterion(y_pred, y_test)\n",
    "            y_pred_labels = (y_pred > 0.5).float()  # Convert probabilities to binary (0 or 1)\n",
    "\n",
    "        # Convert tensors to NumPy arrays for sklearn metrics\n",
    "        y_test_np = y_test.numpy()\n",
    "        y_pred_np = y_pred_labels.numpy()\n",
    "\n",
    "        # Compute evaluation metrics\n",
    "        accuracy = accuracy_score(y_test_np, y_pred_np)\n",
    "        metrics = {\n",
    "            \"epoch\" : epoch,\n",
    "            \"loss\" : loss.item(),\n",
    "            \"holdout_loss\" : holdout_loss.item(),\n",
    "            \"holdout_accuracy\" : accuracy,\n",
    "        }\n",
    "        holdout_metrics.append(metrics)\n",
    "\n",
    "metrics = pd.DataFrame(holdout_metrics).set_index(\"epoch\")\n",
    "metrics"
   ]
  },
  {
   "cell_type": "code",
   "execution_count": 6,
   "id": "8a04ad18-f01c-4f3b-b3ee-4aedc2b9850a",
   "metadata": {
    "tags": []
   },
   "outputs": [
    {
     "data": {
      "image/png": "[encoded data removed]",
      "text/plain": [
       "<Figure size 640x480 with 1 Axes>"
      ]
     },
     "metadata": {},
     "output_type": "display_data"
    }
   ],
   "source": [
    "metrics.plot(title=\"Holdout Training Metrics by Epoch\");"
   ]
  }
 ],
 "metadata": {
  "kernelspec": {
   "display_name": "Python 3 (ipykernel)",
   "language": "python",
   "name": "python3"
  },
  "language_info": {
   "codemirror_mode": {
    "name": "ipython",
    "version": 3
   },
   "file_extension": ".py",
   "mimetype": "text/x-python",
   "name": "python",
   "nbconvert_exporter": "python",
   "pygments_lexer": "ipython3",
   "version": "3.13.2"
  },
  "toc-autonumbering": false,
  "toc-showmarkdowntxt": false
 },
 "nbformat": 4,
 "nbformat_minor": 5
}
